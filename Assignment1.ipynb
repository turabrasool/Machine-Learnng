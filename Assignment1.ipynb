{
  "nbformat": 4,
  "nbformat_minor": 0,
  "metadata": {
    "colab": {
      "provenance": [],
      "authorship_tag": "ABX9TyOXC4Cf1YL8F71T+icNe7Y0",
      "include_colab_link": true
    },
    "kernelspec": {
      "name": "python3",
      "display_name": "Python 3"
    },
    "language_info": {
      "name": "python"
    }
  },
  "cells": [
    {
      "cell_type": "markdown",
      "metadata": {
        "id": "view-in-github",
        "colab_type": "text"
      },
      "source": [
        "<a href=\"https://colab.research.google.com/github/turabrasool/Machine-Learnng/blob/main/Assignment1.ipynb\" target=\"_parent\"><img src=\"https://colab.research.google.com/assets/colab-badge.svg\" alt=\"Open In Colab\"/></a>"
      ]
    },
    {
      "cell_type": "code",
      "execution_count": 13,
      "metadata": {
        "colab": {
          "base_uri": "https://localhost:8080/",
          "height": 366
        },
        "id": "UQe4GgRReflg",
        "outputId": "4c647095-dbe2-4f06-ced5-a7a44998d18c"
      },
      "outputs": [
        {
          "output_type": "error",
          "ename": "NameError",
          "evalue": "ignored",
          "traceback": [
            "\u001b[0;31m---------------------------------------------------------------------------\u001b[0m",
            "\u001b[0;31mNameError\u001b[0m                                 Traceback (most recent call last)",
            "\u001b[0;32m<ipython-input-13-6842cf4f8191>\u001b[0m in \u001b[0;36m<cell line: 50>\u001b[0;34m()\u001b[0m\n\u001b[1;32m     48\u001b[0m \u001b[0;31m# Perform gradient descent\u001b[0m\u001b[0;34m\u001b[0m\u001b[0;34m\u001b[0m\u001b[0m\n\u001b[1;32m     49\u001b[0m \u001b[0mtheta\u001b[0m\u001b[0;34m,\u001b[0m \u001b[0mJ_history\u001b[0m \u001b[0;34m=\u001b[0m \u001b[0mgradient_descent\u001b[0m\u001b[0;34m(\u001b[0m\u001b[0mX\u001b[0m\u001b[0;34m,\u001b[0m \u001b[0my\u001b[0m\u001b[0;34m,\u001b[0m \u001b[0mtheta\u001b[0m\u001b[0;34m,\u001b[0m \u001b[0malpha\u001b[0m\u001b[0;34m,\u001b[0m \u001b[0mnum_iterations\u001b[0m\u001b[0;34m)\u001b[0m\u001b[0;34m\u001b[0m\u001b[0;34m\u001b[0m\u001b[0m\n\u001b[0;32m---> 50\u001b[0;31m \u001b[0mprint\u001b[0m\u001b[0;34m(\u001b[0m\u001b[0mplot_data\u001b[0m \u001b[0;34m(\u001b[0m\u001b[0mX\u001b[0m\u001b[0;34m,\u001b[0m\u001b[0my\u001b[0m\u001b[0;34m)\u001b[0m\u001b[0;34m)\u001b[0m\u001b[0;34m\u001b[0m\u001b[0;34m\u001b[0m\u001b[0m\n\u001b[0m\u001b[1;32m     51\u001b[0m \u001b[0;34m\u001b[0m\u001b[0m\n\u001b[1;32m     52\u001b[0m \u001b[0;31m# Print the learned parameters\u001b[0m\u001b[0;34m\u001b[0m\u001b[0;34m\u001b[0m\u001b[0m\n",
            "\u001b[0;32m<ipython-input-13-6842cf4f8191>\u001b[0m in \u001b[0;36mplot_data\u001b[0;34m(X, y)\u001b[0m\n\u001b[1;32m      9\u001b[0m \u001b[0;34m\u001b[0m\u001b[0m\n\u001b[1;32m     10\u001b[0m \u001b[0;32mdef\u001b[0m \u001b[0mplot_data\u001b[0m \u001b[0;34m(\u001b[0m\u001b[0mX\u001b[0m\u001b[0;34m,\u001b[0m\u001b[0my\u001b[0m\u001b[0;34m)\u001b[0m\u001b[0;34m:\u001b[0m\u001b[0;34m\u001b[0m\u001b[0;34m\u001b[0m\u001b[0m\n\u001b[0;32m---> 11\u001b[0;31m     \u001b[0;32mreturn\u001b[0m \u001b[0mplt\u001b[0m\u001b[0;34m.\u001b[0m\u001b[0mplot\u001b[0m \u001b[0;34m(\u001b[0m\u001b[0mX\u001b[0m\u001b[0;34m,\u001b[0m\u001b[0my\u001b[0m\u001b[0;34m,\u001b[0m\u001b[0mgo\u001b[0m\u001b[0;34m)\u001b[0m\u001b[0;34m\u001b[0m\u001b[0;34m\u001b[0m\u001b[0m\n\u001b[0m\u001b[1;32m     12\u001b[0m \u001b[0;34m\u001b[0m\u001b[0m\n\u001b[1;32m     13\u001b[0m \u001b[0;34m\u001b[0m\u001b[0m\n",
            "\u001b[0;31mNameError\u001b[0m: name 'go' is not defined"
          ]
        }
      ],
      "source": [
        "import numpy as np\n",
        "import matplotlib.pyplot as plt\n",
        "import pandas as pd\n",
        "\n",
        "data=pd.read_csv(\"/content/ex1data1.txt\", header=None,names=[\"house area\", \"house price\"])\n",
        "\n",
        "X = data.iloc[:,0]\n",
        "y = data.iloc[:,1]\n",
        "\n",
        "def plot_data (X,y):\n",
        "    return plt.plot (X,y,go)\n",
        "\n",
        "\n",
        "# Function to compute the cost function\n",
        "def compute_cost(X, y, theta):\n",
        "    m = len(y)\n",
        "    h = X @ theta\n",
        "    J = (1 / (2 * m)) * np.sum((h - y)**2)\n",
        "    return J\n",
        "\n",
        "# Function to perform gradient descent\n",
        "def gradient_descent(X, y, theta, alpha, num_iterations):\n",
        "    m = len(y)\n",
        "    J_history = np.zeros(num_iterations)\n",
        "\n",
        "    for i in range(num_iterations):\n",
        "        h = X @ theta\n",
        "        errors = h - y\n",
        "        gradient = (1 / m) * (X.T @ errors)\n",
        "        theta = theta - alpha * gradient\n",
        "        J_history[i] = compute_cost(X, y, theta)\n",
        "\n",
        "    return theta, J_history\n",
        "\n",
        "\n",
        "\n",
        "\n",
        "# Add a column of ones to X for the bias term\n",
        "X = np.c_[np.ones_like(X), X]\n",
        "\n",
        "# Initialize theta\n",
        "theta = np.zeros(X.shape[1])\n",
        "\n",
        "# Set hyperparameters\n",
        "alpha = 0.003\n",
        "num_iterations = 1000\n",
        "\n",
        "# Perform gradient descent\n",
        "theta, J_history = gradient_descent(X, y, theta, alpha, num_iterations)\n",
        "\n",
        "\n",
        "# Print the learned parameters\n",
        "print(\"Theta found by gradient descent:\", theta)\n",
        "\n",
        "# Plot the cost function over iterations\n",
        "plt.plot(np.arange(1, num_iterations + 1), J_history, label='Cost Function')\n",
        "plt.xlabel('Number of Iterations')\n",
        "plt.ylabel('Cost')\n",
        "plt.legend()\n",
        "plt.show()\n"
      ]
    }
  ]
}