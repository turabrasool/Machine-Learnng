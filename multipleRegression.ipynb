{
  "cells": [
    {
      "cell_type": "markdown",
      "metadata": {
        "id": "view-in-github",
        "colab_type": "text"
      },
      "source": [
        "<a href=\"https://colab.research.google.com/github/turabrasool/Machine-Learnng/blob/main/multipleRegression.ipynb\" target=\"_parent\"><img src=\"https://colab.research.google.com/assets/colab-badge.svg\" alt=\"Open In Colab\"/></a>"
      ]
    },
    {
      "cell_type": "code",
      "execution_count": 3,
      "outputs": [
        {
          "output_type": "stream",
          "name": "stdout",
          "text": [
            "optimized theta without nomal equation X0    340410.918973\n",
            "X1    110308.113371\n",
            "X2     -6326.538108\n",
            "dtype: float64\n",
            "0    340412.659574\n",
            "1    110631.050279\n",
            "2     -6649.474271\n",
            "dtype: float64\n"
          ]
        },
        {
          "output_type": "execute_result",
          "data": {
            "text/plain": [
              "array([-9.59060761e+23])"
            ]
          },
          "metadata": {},
          "execution_count": 3
        },
        {
          "output_type": "display_data",
          "data": {
            "text/plain": [
              "<Figure size 640x480 with 1 Axes>"
            ],
            "image/png": "[encoded data removed]"
          },
          "metadata": {}
        }
      ],
      "source": [
        "import pandas as pd\n",
        "import numpy as np\n",
        "import matplotlib.pyplot as plt\n",
        "\n",
        "df = pd.read_csv('ex1data2.txt',header=None)\n",
        "\n",
        "df.columns = ['X1','X2','y']\n",
        "X = df[['X1','X2']]\n",
        "y = df['y']\n",
        "m = len(y)\n",
        "\n",
        "mu = X.mean()\n",
        "sigma = X.std()\n",
        "\n",
        "\n",
        "# This will return the numpy array with normalized features\n",
        "def feature_normalize(X):\n",
        "    X_normalized = (X - X.mean()) / X.std()\n",
        "    return X_normalized\n",
        "\n",
        "\n",
        "# This function will calculate cost function and return the value\n",
        "def cost_function(X,y,theta):\n",
        "    m = len(y)\n",
        "    J = (1 / (2 * m)) * np.sum((X @ theta - y) ** 2)\n",
        "    return J\n",
        "\n",
        "\n",
        "\n",
        "# X = df.loc[:, df.columns!='price']\n",
        "# y = df['price']\n",
        "m = len(y)\n",
        "X = feature_normalize(X)\n",
        "X.insert(0,'X0',np.ones(m))\n",
        "theta = np.zeros(len(X.columns))\n",
        "cost_function(X,y,theta)\n",
        "\n",
        "# This function will find the gradient_descent and return final optimized theta value\n",
        "# and all the history of different cost function\n",
        "def gradient_descent(X,y,theta,alpha,iterations):\n",
        "    m = len(y)\n",
        "    hist = np.zeros(iterations)\n",
        "\n",
        "    for iteration in range(iterations):\n",
        "        error = X @ theta - y\n",
        "        gradient = (1 / m) * (X.T @ error)\n",
        "        theta = theta - alpha * gradient\n",
        "        hist[iteration] = cost_function(X, y, theta)\n",
        "\n",
        "    return hist, theta\n",
        "\n",
        "\n",
        "\n",
        "# This will calculate the optimized theta value through Normal equation\n",
        "def normal_equation(X,y):\n",
        "    theta_opt = np.linalg.inv(X.T @ X) @ X.T @ y\n",
        "    return theta_opt\n",
        "\n",
        "\n",
        "\n",
        "alpha = 0.03\n",
        "\n",
        "hist,theta_opt = gradient_descent(X,y,theta,alpha,400)\n",
        "\n",
        "plt.plot(hist)\n",
        "\n",
        "print('optimized theta without nomal equation',theta_opt)\n",
        "theta_opt=normal_equation(X,y)\n",
        "print(normal_equation(X,y))\n",
        "\n",
        "# 2104,3,399900\n",
        "# 1600,3,329900\n",
        "# 2400,3,369000\n",
        "# 1416,2,232000\n",
        "# 3000,4,539900\n",
        "# 1985,4,299900\n",
        "# 1534,3,314900\n",
        "def predict(ary,theta):\n",
        "    pred = pd.DataFrame(np.array(ary))\n",
        "    pred = feature_normalize(pred.T)\n",
        "    ary0 = np.ones(1,dtype=int)\n",
        "    ary1 = np.array(pred,dtype=int)\n",
        "    pred = np.column_stack([ary0,ary1])\n",
        "\n",
        "    return pred@np.array(theta_opt.T)\n",
        "\n",
        "predict(np.array([1534,3]),theta_opt)\n"
      ],
      "metadata": {
        "colab": {
          "base_uri": "https://localhost:8080/",
          "height": 601
        },
        "id": "T69DqEEDHCbH",
        "outputId": "db9057cf-cc28-4e81-dea8-df870549f82f"
      }
    },
    {
      "cell_type": "code",
      "execution_count": null,
      "outputs": [],
      "source": [],
      "metadata": {
        "id": "2hx9jP7GHCbL"
      }
    }
  ],
  "metadata": {
    "kernelspec": {
      "display_name": "Python 3",
      "language": "python",
      "name": "python3"
    },
    "language_info": {
      "codemirror_mode": {
        "name": "ipython",
        "version": 2
      },
      "file_extension": ".py",
      "mimetype": "text/x-python",
      "name": "python",
      "nbconvert_exporter": "python",
      "pygments_lexer": "ipython2",
      "version": "2.7.6"
    },
    "colab": {
      "provenance": [],
      "include_colab_link": true
    }
  },
  "nbformat": 4,
  "nbformat_minor": 0
}