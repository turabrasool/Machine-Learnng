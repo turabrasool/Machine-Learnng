{
  "nbformat": 4,
  "nbformat_minor": 0,
  "metadata": {
    "colab": {
      "provenance": [],
      "authorship_tag": "ABX9TyOfb07ASsTXJ006BKeDvbwG",
      "include_colab_link": true
    },
    "kernelspec": {
      "name": "python3",
      "display_name": "Python 3"
    },
    "language_info": {
      "name": "python"
    }
  },
  "cells": [
    {
      "cell_type": "markdown",
      "metadata": {
        "id": "view-in-github",
        "colab_type": "text"
      },
      "source": [
        "<a href=\"https://colab.research.google.com/github/turabrasool/Machine-Learnng/blob/main/Untitled0.ipynb\" target=\"_parent\"><img src=\"https://colab.research.google.com/assets/colab-badge.svg\" alt=\"Open In Colab\"/></a>"
      ]
    },
    {
      "cell_type": "code",
      "execution_count": 41,
      "metadata": {
        "colab": {
          "base_uri": "https://localhost:8080/",
          "height": 467
        },
        "id": "umxDkVNW6l-s",
        "outputId": "b49ff2e3-8bb1-42f6-c412-16729872c6df"
      },
      "outputs": [
        {
          "output_type": "stream",
          "name": "stdout",
          "text": [
            "Theta found by gradient descent: [0.0244794  0.19598655]\n"
          ]
        },
        {
          "output_type": "display_data",
          "data": {
            "text/plain": [
              "<Figure size 640x480 with 1 Axes>"
            ],
            "image/png": "[encoded data removed]"
          },
          "metadata": {}
        }
      ],
      "source": [
        "from numpy.ma.extras import stack\n",
        "import pandas as pd\n",
        "import numpy as np\n",
        "import matplotlib.pyplot as plt\n",
        "\n",
        "\n",
        "data = pd.read_csv(\"/content/ex1data1.txt\", header = None,names =[\"house area\", \"house price\"])\n",
        "\n",
        "x=data.iloc[:,1]\n",
        "y=data.iloc[:,0]\n",
        "\n",
        "\n",
        "plt.plot(x,y)\n",
        "plt.xlabel(\"house price\")\n",
        "plt.xlabel(\"house area\")\n",
        "\n",
        "\n",
        "x = np.c_[np.ones(97), x]\n",
        "theta = np.zeros(2)\n",
        "\n",
        "def cost_function (x,y,theta):\n",
        "  m=len(y)\n",
        "  h=x@theta\n",
        "  error=h-y\n",
        "  error_square=error**2\n",
        "  j=(1/(2*m))*np.sum(error_square)\n",
        "\n",
        "  return j;\n",
        "\n",
        "  0\n",
        "\n",
        "def gradient_descent (x,y,theta,alpha,num_iteration):\n",
        "  m=len(y)\n",
        "\n",
        "  j_history = np.zeros(num_iterations)\n",
        "\n",
        "  for i in range (num_iterations):\n",
        "   h=x@theta\n",
        "   error=h-y\n",
        "   gradient = (1 / m) * (x.T @ error)\n",
        "   theta = theta - alpha * gradient\n",
        "   j_history[i] = cost_function(x, y, theta)\n",
        "\n",
        "   return theta, j_history;\n",
        "alpha=0.003\n",
        "num_iterations=500\n",
        "\n",
        "theta, j_history = gradient_descent(x, y, theta, alpha, num_iterations)\n",
        "\n",
        "\n",
        "print(\"Theta found by gradient descent:\", theta)\n",
        "\n",
        "\n",
        "plt.plot(np.arange(1, num_iterations + 1), j_history, label='Cost Function')\n",
        "plt.xlabel('Number of Iterations')\n",
        "plt.ylabel('Cost')\n",
        "plt.legend()\n",
        "plt.show()\n",
        "\n",
        "\n",
        "\n",
        "\n",
        "\n",
        "\n",
        "\n"
      ]
    },
    {
      "cell_type": "markdown",
      "source": [],
      "metadata": {
        "id": "ZRilzjdYAbGD"
      }
    },
    {
      "cell_type": "code",
      "source": [
        "from google.colab import drive\n",
        "drive.mount('/content/drive')"
      ],
      "metadata": {
        "id": "sJdTpaWegrk1"
      },
      "execution_count": null,
      "outputs": []
    }
  ]
}